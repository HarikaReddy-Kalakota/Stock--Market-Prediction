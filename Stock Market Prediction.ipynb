{
 "cells": [
  {
   "cell_type": "code",
   "execution_count": 37,
   "id": "d810d6c9",
   "metadata": {},
   "outputs": [],
   "source": [
    "import numpy as np\n",
    "import pandas as pd\n",
    "import matplotlib.pyplot as plt\n",
    "%matplotlib inline\n",
    "import seaborn as sb\n",
    " \n",
    "from sklearn.model_selection import train_test_split\n",
    "from sklearn.preprocessing import StandardScaler\n",
    "from sklearn.linear_model import LogisticRegression\n",
    "from sklearn.svm import SVC\n",
    "from sklearn import metrics\n",
    "import warnings\n",
    "warnings.filterwarnings('ignore')"
   ]
  },
  {
   "cell_type": "code",
   "execution_count": 28,
   "id": "11fb19d7",
   "metadata": {},
   "outputs": [
    {
     "data": {
      "text/html": [
       "<div>\n",
       "<style scoped>\n",
       "    .dataframe tbody tr th:only-of-type {\n",
       "        vertical-align: middle;\n",
       "    }\n",
       "\n",
       "    .dataframe tbody tr th {\n",
       "        vertical-align: top;\n",
       "    }\n",
       "\n",
       "    .dataframe thead th {\n",
       "        text-align: right;\n",
       "    }\n",
       "</style>\n",
       "<table border=\"1\" class=\"dataframe\">\n",
       "  <thead>\n",
       "    <tr style=\"text-align: right;\">\n",
       "      <th></th>\n",
       "      <th>Date</th>\n",
       "      <th>Open</th>\n",
       "      <th>High</th>\n",
       "      <th>Low</th>\n",
       "      <th>Close</th>\n",
       "      <th>Adj Close</th>\n",
       "      <th>Volume</th>\n",
       "    </tr>\n",
       "  </thead>\n",
       "  <tbody>\n",
       "    <tr>\n",
       "      <th>0</th>\n",
       "      <td>1980-12-12</td>\n",
       "      <td>0.128348</td>\n",
       "      <td>0.128906</td>\n",
       "      <td>0.128348</td>\n",
       "      <td>0.128348</td>\n",
       "      <td>0.100323</td>\n",
       "      <td>469033600</td>\n",
       "    </tr>\n",
       "    <tr>\n",
       "      <th>1</th>\n",
       "      <td>1980-12-15</td>\n",
       "      <td>0.122210</td>\n",
       "      <td>0.122210</td>\n",
       "      <td>0.121652</td>\n",
       "      <td>0.121652</td>\n",
       "      <td>0.095089</td>\n",
       "      <td>175884800</td>\n",
       "    </tr>\n",
       "    <tr>\n",
       "      <th>2</th>\n",
       "      <td>1980-12-16</td>\n",
       "      <td>0.113281</td>\n",
       "      <td>0.113281</td>\n",
       "      <td>0.112723</td>\n",
       "      <td>0.112723</td>\n",
       "      <td>0.088110</td>\n",
       "      <td>105728000</td>\n",
       "    </tr>\n",
       "    <tr>\n",
       "      <th>3</th>\n",
       "      <td>1980-12-17</td>\n",
       "      <td>0.115513</td>\n",
       "      <td>0.116071</td>\n",
       "      <td>0.115513</td>\n",
       "      <td>0.115513</td>\n",
       "      <td>0.090291</td>\n",
       "      <td>86441600</td>\n",
       "    </tr>\n",
       "    <tr>\n",
       "      <th>4</th>\n",
       "      <td>1980-12-18</td>\n",
       "      <td>0.118862</td>\n",
       "      <td>0.119420</td>\n",
       "      <td>0.118862</td>\n",
       "      <td>0.118862</td>\n",
       "      <td>0.092908</td>\n",
       "      <td>73449600</td>\n",
       "    </tr>\n",
       "  </tbody>\n",
       "</table>\n",
       "</div>"
      ],
      "text/plain": [
       "         Date      Open      High       Low     Close  Adj Close     Volume\n",
       "0  1980-12-12  0.128348  0.128906  0.128348  0.128348   0.100323  469033600\n",
       "1  1980-12-15  0.122210  0.122210  0.121652  0.121652   0.095089  175884800\n",
       "2  1980-12-16  0.113281  0.113281  0.112723  0.112723   0.088110  105728000\n",
       "3  1980-12-17  0.115513  0.116071  0.115513  0.115513   0.090291   86441600\n",
       "4  1980-12-18  0.118862  0.119420  0.118862  0.118862   0.092908   73449600"
      ]
     },
     "execution_count": 28,
     "metadata": {},
     "output_type": "execute_result"
    }
   ],
   "source": [
    "dataset = pd.read_csv('AAPL.csv')\n",
    "dataset.head()"
   ]
  },
  {
   "cell_type": "code",
   "execution_count": 29,
   "id": "6759c6dc",
   "metadata": {},
   "outputs": [
    {
     "data": {
      "text/plain": [
       "(10409, 7)"
      ]
     },
     "execution_count": 29,
     "metadata": {},
     "output_type": "execute_result"
    }
   ],
   "source": [
    "dataset.shape"
   ]
  },
  {
   "cell_type": "code",
   "execution_count": 30,
   "id": "1ce4d91b",
   "metadata": {},
   "outputs": [
    {
     "data": {
      "text/html": [
       "<div>\n",
       "<style scoped>\n",
       "    .dataframe tbody tr th:only-of-type {\n",
       "        vertical-align: middle;\n",
       "    }\n",
       "\n",
       "    .dataframe tbody tr th {\n",
       "        vertical-align: top;\n",
       "    }\n",
       "\n",
       "    .dataframe thead th {\n",
       "        text-align: right;\n",
       "    }\n",
       "</style>\n",
       "<table border=\"1\" class=\"dataframe\">\n",
       "  <thead>\n",
       "    <tr style=\"text-align: right;\">\n",
       "      <th></th>\n",
       "      <th>Open</th>\n",
       "      <th>High</th>\n",
       "      <th>Low</th>\n",
       "      <th>Close</th>\n",
       "      <th>Adj Close</th>\n",
       "      <th>Volume</th>\n",
       "    </tr>\n",
       "  </thead>\n",
       "  <tbody>\n",
       "    <tr>\n",
       "      <th>count</th>\n",
       "      <td>10409.000000</td>\n",
       "      <td>10409.000000</td>\n",
       "      <td>10409.000000</td>\n",
       "      <td>10409.000000</td>\n",
       "      <td>10409.000000</td>\n",
       "      <td>1.040900e+04</td>\n",
       "    </tr>\n",
       "    <tr>\n",
       "      <th>mean</th>\n",
       "      <td>13.959910</td>\n",
       "      <td>14.111936</td>\n",
       "      <td>13.809163</td>\n",
       "      <td>13.966757</td>\n",
       "      <td>13.350337</td>\n",
       "      <td>3.321778e+08</td>\n",
       "    </tr>\n",
       "    <tr>\n",
       "      <th>std</th>\n",
       "      <td>30.169244</td>\n",
       "      <td>30.514878</td>\n",
       "      <td>29.835055</td>\n",
       "      <td>30.191696</td>\n",
       "      <td>29.911132</td>\n",
       "      <td>3.393344e+08</td>\n",
       "    </tr>\n",
       "    <tr>\n",
       "      <th>min</th>\n",
       "      <td>0.049665</td>\n",
       "      <td>0.049665</td>\n",
       "      <td>0.049107</td>\n",
       "      <td>0.049107</td>\n",
       "      <td>0.038384</td>\n",
       "      <td>0.000000e+00</td>\n",
       "    </tr>\n",
       "    <tr>\n",
       "      <th>25%</th>\n",
       "      <td>0.281964</td>\n",
       "      <td>0.287946</td>\n",
       "      <td>0.274554</td>\n",
       "      <td>0.281250</td>\n",
       "      <td>0.234799</td>\n",
       "      <td>1.247604e+08</td>\n",
       "    </tr>\n",
       "    <tr>\n",
       "      <th>50%</th>\n",
       "      <td>0.468750</td>\n",
       "      <td>0.477679</td>\n",
       "      <td>0.459821</td>\n",
       "      <td>0.468750</td>\n",
       "      <td>0.386853</td>\n",
       "      <td>2.199680e+08</td>\n",
       "    </tr>\n",
       "    <tr>\n",
       "      <th>75%</th>\n",
       "      <td>14.217857</td>\n",
       "      <td>14.364286</td>\n",
       "      <td>14.043571</td>\n",
       "      <td>14.206071</td>\n",
       "      <td>12.188149</td>\n",
       "      <td>4.126108e+08</td>\n",
       "    </tr>\n",
       "    <tr>\n",
       "      <th>max</th>\n",
       "      <td>182.630005</td>\n",
       "      <td>182.940002</td>\n",
       "      <td>179.119995</td>\n",
       "      <td>182.009995</td>\n",
       "      <td>181.778397</td>\n",
       "      <td>7.421641e+09</td>\n",
       "    </tr>\n",
       "  </tbody>\n",
       "</table>\n",
       "</div>"
      ],
      "text/plain": [
       "               Open          High           Low         Close     Adj Close  \\\n",
       "count  10409.000000  10409.000000  10409.000000  10409.000000  10409.000000   \n",
       "mean      13.959910     14.111936     13.809163     13.966757     13.350337   \n",
       "std       30.169244     30.514878     29.835055     30.191696     29.911132   \n",
       "min        0.049665      0.049665      0.049107      0.049107      0.038384   \n",
       "25%        0.281964      0.287946      0.274554      0.281250      0.234799   \n",
       "50%        0.468750      0.477679      0.459821      0.468750      0.386853   \n",
       "75%       14.217857     14.364286     14.043571     14.206071     12.188149   \n",
       "max      182.630005    182.940002    179.119995    182.009995    181.778397   \n",
       "\n",
       "             Volume  \n",
       "count  1.040900e+04  \n",
       "mean   3.321778e+08  \n",
       "std    3.393344e+08  \n",
       "min    0.000000e+00  \n",
       "25%    1.247604e+08  \n",
       "50%    2.199680e+08  \n",
       "75%    4.126108e+08  \n",
       "max    7.421641e+09  "
      ]
     },
     "execution_count": 30,
     "metadata": {},
     "output_type": "execute_result"
    }
   ],
   "source": [
    "dataset.describe()"
   ]
  },
  {
   "cell_type": "code",
   "execution_count": 31,
   "id": "3c2d4c56",
   "metadata": {},
   "outputs": [
    {
     "name": "stdout",
     "output_type": "stream",
     "text": [
      "<class 'pandas.core.frame.DataFrame'>\n",
      "RangeIndex: 10409 entries, 0 to 10408\n",
      "Data columns (total 7 columns):\n",
      " #   Column     Non-Null Count  Dtype  \n",
      "---  ------     --------------  -----  \n",
      " 0   Date       10409 non-null  object \n",
      " 1   Open       10409 non-null  float64\n",
      " 2   High       10409 non-null  float64\n",
      " 3   Low        10409 non-null  float64\n",
      " 4   Close      10409 non-null  float64\n",
      " 5   Adj Close  10409 non-null  float64\n",
      " 6   Volume     10409 non-null  int64  \n",
      "dtypes: float64(5), int64(1), object(1)\n",
      "memory usage: 569.4+ KB\n"
     ]
    }
   ],
   "source": [
    "dataset.info()"
   ]
  },
  {
   "cell_type": "code",
   "execution_count": 32,
   "id": "99ead538",
   "metadata": {},
   "outputs": [
    {
     "data": {
      "image/png": "[encoded data removed]",
      "text/plain": [
       "<Figure size 800x400 with 1 Axes>"
      ]
     },
     "metadata": {},
     "output_type": "display_data"
    }
   ],
   "source": [
    "plt.figure(figsize=(8,4))\n",
    "plt.plot(dataset['Close'])\n",
    "plt.title(' Close price.', fontsize=10)\n",
    "plt.ylabel('Price in dollars.')\n",
    "plt.show()"
   ]
  },
  {
   "cell_type": "code",
   "execution_count": 33,
   "id": "d13cc137",
   "metadata": {},
   "outputs": [
    {
     "data": {
      "text/plain": [
       "(34, 7)"
      ]
     },
     "execution_count": 33,
     "metadata": {},
     "output_type": "execute_result"
    }
   ],
   "source": [
    "dataset[dataset['Close'] == dataset['Adj Close']].shape"
   ]
  },
  {
   "cell_type": "code",
   "execution_count": 34,
   "id": "ed836ee9",
   "metadata": {},
   "outputs": [
    {
     "data": {
      "text/plain": [
       "Date         0\n",
       "Open         0\n",
       "High         0\n",
       "Low          0\n",
       "Close        0\n",
       "Adj Close    0\n",
       "Volume       0\n",
       "dtype: int64"
      ]
     },
     "execution_count": 34,
     "metadata": {},
     "output_type": "execute_result"
    }
   ],
   "source": [
    "dataset.isnull().sum()"
   ]
  },
  {
   "cell_type": "code",
   "execution_count": 35,
   "id": "144f0415",
   "metadata": {},
   "outputs": [
    {
     "data": {
      "image/png": "[encoded data removed]",
      "text/plain": [
       "<Figure size 800x400 with 5 Axes>"
      ]
     },
     "metadata": {},
     "output_type": "display_data"
    }
   ],
   "source": [
    "features = ['Open', 'High', 'Low', 'Close', 'Volume']\n",
    " \n",
    "plt.subplots(figsize=(8,4))\n",
    " \n",
    "for i, col in enumerate(features):\n",
    "  plt.subplot(2,3,i+1)\n",
    "  sb.distplot(dataset[col])\n",
    "plt.show()"
   ]
  },
  {
   "cell_type": "code",
   "execution_count": 40,
   "id": "35f917f9",
   "metadata": {},
   "outputs": [],
   "source": [
    "futureDays = 25"
   ]
  },
  {
   "cell_type": "code",
   "execution_count": 42,
   "id": "0f9c04cb",
   "metadata": {},
   "outputs": [
    {
     "name": "stdout",
     "output_type": "stream",
     "text": [
      "         Date      Open      High       Low     Close  Adj Close     Volume  \\\n",
      "0  1980-12-12  0.128348  0.128906  0.128348  0.128348   0.100323  469033600   \n",
      "1  1980-12-15  0.122210  0.122210  0.121652  0.121652   0.095089  175884800   \n",
      "2  1980-12-16  0.113281  0.113281  0.112723  0.112723   0.088110  105728000   \n",
      "3  1980-12-17  0.115513  0.116071  0.115513  0.115513   0.090291   86441600   \n",
      "4  1980-12-18  0.118862  0.119420  0.118862  0.118862   0.092908   73449600   \n",
      "\n",
      "   Prediction  \n",
      "0    0.142299  \n",
      "1    0.145089  \n",
      "2    0.146763  \n",
      "3    0.146205  \n",
      "4    0.143973  \n",
      "             Date        Open        High         Low       Close   Adj Close  \\\n",
      "10404  2022-03-18  160.509995  164.479996  159.759995  163.979996  163.979996   \n",
      "10405  2022-03-21  163.509995  166.350006  163.009995  165.380005  165.380005   \n",
      "10406  2022-03-22  165.509995  169.419998  164.910004  168.820007  168.820007   \n",
      "10407  2022-03-23  167.990005  172.639999  167.649994  170.210007  170.210007   \n",
      "10408  2022-03-24  171.059998  174.139999  170.210007  174.070007  174.070007   \n",
      "\n",
      "          Volume  Prediction  \n",
      "10404  123351200         NaN  \n",
      "10405   95811400         NaN  \n",
      "10406   81532000         NaN  \n",
      "10407   98062700         NaN  \n",
      "10408   90018700         NaN  \n"
     ]
    }
   ],
   "source": [
    "dataset[\"Prediction\"] = dataset[[\"Close\"]].shift(-futureDays)\n",
    "print(dataset.head())\n",
    "print(dataset.tail())"
   ]
  },
  {
   "cell_type": "code",
   "execution_count": 43,
   "id": "a0689236",
   "metadata": {},
   "outputs": [
    {
     "name": "stdout",
     "output_type": "stream",
     "text": [
      "[['1980-12-12' 0.128348 0.128906 ... 0.128348 0.100323 469033600]\n",
      " ['1980-12-15' 0.12221 0.12221 ... 0.121652 0.095089 175884800]\n",
      " ['1980-12-16' 0.113281 0.113281 ... 0.112723 0.08811 105728000]\n",
      " ...\n",
      " ['2022-02-14' 167.369995 169.580002 ... 168.880005 168.880005 86185500]\n",
      " ['2022-02-15' 170.970001 172.949997 ... 172.789993 172.789993 62527400]\n",
      " ['2022-02-16' 171.850006 173.339996 ... 172.550003 172.550003 61177400]]\n"
     ]
    }
   ],
   "source": [
    "x = np.array(dataset.drop([\"Prediction\"], 1))[:-futureDays]\n",
    "print(x)"
   ]
  },
  {
   "cell_type": "code",
   "execution_count": 45,
   "id": "2ea19f9e",
   "metadata": {},
   "outputs": [
    {
     "name": "stdout",
     "output_type": "stream",
     "text": [
      "[['1980-12-12' 0.128348 0.128906 ... 0.128348 0.100323 469033600]\n",
      " ['1980-12-15' 0.12221 0.12221 ... 0.121652 0.095089 175884800]\n",
      " ['1980-12-16' 0.113281 0.113281 ... 0.112723 0.08811 105728000]\n",
      " ...\n",
      " ['2022-02-14' 167.369995 169.580002 ... 168.880005 168.880005 86185500]\n",
      " ['2022-02-15' 170.970001 172.949997 ... 172.789993 172.789993 62527400]\n",
      " ['2022-02-16' 171.850006 173.339996 ... 172.550003 172.550003 61177400]]\n"
     ]
    }
   ],
   "source": [
    "y = np.array(dataset.drop([\"Prediction\"], 1))[:-futureDays]\n",
    "print(y)"
   ]
  },
  {
   "cell_type": "code",
   "execution_count": 46,
   "id": "230e1edc",
   "metadata": {},
   "outputs": [],
   "source": [
    "from sklearn.model_selection import train_test_split\n",
    "xtrain, xtest, ytrain, ytest = train_test_split(x, y, test_size=0.25)"
   ]
  },
  {
   "cell_type": "code",
   "execution_count": 48,
   "id": "225757f6",
   "metadata": {},
   "outputs": [
    {
     "name": "stdout",
     "output_type": "stream",
     "text": [
      "[['2022-01-12' 176.119995 177.179993 174.820007 175.529999 175.306641\n",
      "  74805200]\n",
      " ['2022-01-13' 175.779999 176.619995 171.789993 172.190002 171.970901\n",
      "  84505800]\n",
      " ['2022-01-14' 171.339996 173.779999 171.089996 173.070007 172.849792\n",
      "  80440800]\n",
      " ['2022-01-18' 171.509995 172.539993 169.410004 169.800003 169.583939\n",
      "  90956700]\n",
      " ['2022-01-19' 170.0 171.080002 165.940002 166.229996 166.018478 94815000]\n",
      " ['2022-01-20' 166.979996 169.679993 164.179993 164.509995 164.300659\n",
      "  91420500]\n",
      " ['2022-01-21' 164.419998 166.330002 162.300003 162.410004 162.203354\n",
      "  122848900]\n",
      " ['2022-01-24' 160.020004 162.300003 154.699997 161.619995 161.414337\n",
      "  162294600]\n",
      " ['2022-01-25' 158.979996 162.759995 157.020004 159.779999 159.576691\n",
      "  115798400]\n",
      " ['2022-01-26' 163.5 164.389999 157.820007 159.690002 159.486801\n",
      "  108275300]\n",
      " ['2022-01-27' 162.449997 163.839996 158.279999 159.220001 159.01741\n",
      "  121954600]\n",
      " ['2022-01-28' 165.710007 170.350006 162.800003 170.330002 170.113266\n",
      "  179935700]\n",
      " ['2022-01-31' 170.160004 175.0 169.509995 174.779999 174.557602\n",
      "  115541600]\n",
      " ['2022-02-01' 174.009995 174.839996 172.309998 174.610001 174.387817\n",
      "  86213900]\n",
      " ['2022-02-02' 174.75 175.880005 173.330002 175.839996 175.616257\n",
      "  84914300]\n",
      " ['2022-02-03' 174.479996 176.240005 172.119995 172.899994 172.679993\n",
      "  89418100]\n",
      " ['2022-02-04' 171.679993 174.100006 170.679993 172.389999 172.389999\n",
      "  82465400]\n",
      " ['2022-02-07' 172.860001 173.949997 170.949997 171.660004 171.660004\n",
      "  77251200]\n",
      " ['2022-02-08' 171.729996 175.350006 171.429993 174.830002 174.830002\n",
      "  74829200]\n",
      " ['2022-02-09' 176.050003 176.649994 174.899994 176.279999 176.279999\n",
      "  71285000]\n",
      " ['2022-02-10' 174.139999 175.479996 171.550003 172.119995 172.119995\n",
      "  90865900]\n",
      " ['2022-02-11' 172.330002 173.080002 168.039993 168.639999 168.639999\n",
      "  98670700]\n",
      " ['2022-02-14' 167.369995 169.580002 166.559998 168.880005 168.880005\n",
      "  86185500]\n",
      " ['2022-02-15' 170.970001 172.949997 170.25 172.789993 172.789993\n",
      "  62527400]\n",
      " ['2022-02-16' 171.850006 173.339996 170.050003 172.550003 172.550003\n",
      "  61177400]]\n"
     ]
    }
   ],
   "source": [
    "xfuture = dataset.drop([\"Prediction\"], 1)[:-futureDays]\n",
    "xfuture = xfuture.tail(futureDays)\n",
    "xfuture = np.array(xfuture)\n",
    "print(xfuture)"
   ]
  }
 ],
 "metadata": {
  "kernelspec": {
   "display_name": "Python 3 (ipykernel)",
   "language": "python",
   "name": "python3"
  },
  "language_info": {
   "codemirror_mode": {
    "name": "ipython",
    "version": 3
   },
   "file_extension": ".py",
   "mimetype": "text/x-python",
   "name": "python",
   "nbconvert_exporter": "python",
   "pygments_lexer": "ipython3",
   "version": "3.10.9"
  }
 },
 "nbformat": 4,
 "nbformat_minor": 5
}
